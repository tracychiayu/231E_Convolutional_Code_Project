{
 "cells": [
  {
   "cell_type": "code",
   "execution_count": 5,
   "metadata": {},
   "outputs": [],
   "source": [
    "import numpy as np"
   ]
  },
  {
   "cell_type": "code",
   "execution_count": 2,
   "metadata": {},
   "outputs": [],
   "source": [
    "'''\n",
    "Perform xor on each bit of the binary representation of a decimal number\n",
    "11: [1 0 1 1] -> 1+0+1+1 -> 1\n",
    "'''\n",
    "def xor_bits(decimal): \n",
    "    result=0\n",
    "    while decimal>0:\n",
    "        result=result^(decimal&1)\n",
    "        decimal=decimal>>1\n",
    "    return result\n",
    "\n",
    "'''\n",
    "Concatenate two bits and return the decimal representation\n",
    "ex: [c1 c0]=[1 1] -> 3\n",
    "'''\n",
    "def binary_to_decimal(c1,c0):\n",
    "    return (c1<<1)|c0"
   ]
  },
  {
   "cell_type": "code",
   "execution_count": 3,
   "metadata": {},
   "outputs": [],
   "source": [
    "class poly2trellis:\n",
    "    def __init__(self,k,n,v,polynomial):\n",
    "        self.k_=k\n",
    "        self.n_=n\n",
    "        self.v_=v\n",
    "        self.p0_octal=polynomial[0]\n",
    "        self.p1_octal=polynomial[1]\n",
    "        self.numInputSymbols=2**self.k_\n",
    "        self.numOutputSymbols=2**self.n_\n",
    "        self.numStates=2**self.v_\n",
    "        self.nextStates=self.computeNextStates()\n",
    "        self.outputs=self.computeOutputs()\n",
    "\n",
    "    def computeNextStates(self):\n",
    "        state_matrix=np.zeros((self.numStates,self.numInputSymbols),dtype=int)\n",
    "        for i in range(0,self.numStates):\n",
    "\n",
    "            # current state (row)\n",
    "            current_state=i  \n",
    "\n",
    "            # input = 0\n",
    "            next_state=current_state>>1\n",
    "            state_matrix[i][0]=next_state\n",
    "\n",
    "            # input = 1\n",
    "            next_state=(current_state>>1)+2**(self.v_-1)         \n",
    "            state_matrix[i][1]=next_state\n",
    "\n",
    "        return state_matrix\n",
    "    \n",
    "    def computeOutputs(self):\n",
    "        p0_decimal=int(str(self.p0_octal),8) #11\n",
    "        p1_decimal=int(str(self.p1_octal),8) #15\n",
    "\n",
    "        output_matrix=np.zeros((self.numStates,self.numInputSymbols), dtype=int)\n",
    "        for current_state in range(0,self.numStates): #state: 0~7\n",
    "            # input (u0): 0\n",
    "            input_state=current_state\n",
    "            c1=xor_bits(np.bitwise_and(p0_decimal,input_state))\n",
    "            c0=xor_bits(np.bitwise_and(p1_decimal,input_state))\n",
    "            output_matrix[current_state][0]=binary_to_decimal(c1,c0)\n",
    "\n",
    "            # input (u0): 1\n",
    "            input_state=current_state+2**self.v_\n",
    "            c1=xor_bits(np.bitwise_and(p0_decimal,input_state))\n",
    "            c0=xor_bits(np.bitwise_and(p1_decimal,input_state))\n",
    "            output_matrix[current_state][1]=binary_to_decimal(c1,c0)\n",
    "            \n",
    "        return output_matrix\n",
    "\n",
    "\n",
    "\n",
    "    "
   ]
  }
 ],
 "metadata": {
  "kernelspec": {
   "display_name": "py39",
   "language": "python",
   "name": "python3"
  },
  "language_info": {
   "codemirror_mode": {
    "name": "ipython",
    "version": 3
   },
   "file_extension": ".py",
   "mimetype": "text/x-python",
   "name": "python",
   "nbconvert_exporter": "python",
   "pygments_lexer": "ipython3",
   "version": "3.10.14"
  }
 },
 "nbformat": 4,
 "nbformat_minor": 2
}
